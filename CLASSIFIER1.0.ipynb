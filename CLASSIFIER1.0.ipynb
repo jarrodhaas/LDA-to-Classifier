{
 "cells": [
  {
   "cell_type": "code",
   "execution_count": 1,
   "metadata": {
    "collapsed": true
   },
   "outputs": [],
   "source": [
    "import numpy as np\n",
    "import pandas as pd\n",
    "import matplotlib.pyplot as plt\n",
    "import sys\n",
    "from sklearn.model_selection import train_test_split\n",
    "from sklearn.naive_bayes import GaussianNB\n",
    "from sklearn.metrics import accuracy_score\n",
    "from sklearn.neighbors import KNeighborsClassifier\n",
    "from sklearn.svm import SVC\n",
    "from sklearn.preprocessing import OneHotEncoder\n",
    "from sklearn.metrics import confusion_matrix\n",
    "import seaborn as sn"
   ]
  },
  {
   "cell_type": "code",
   "execution_count": 2,
   "metadata": {
    "collapsed": true
   },
   "outputs": [],
   "source": [
    "#\n",
    "# Portions of this code adapted from CMPT318D1 exercise 7.\n",
    "#\n",
    "\n",
    "\n",
    "OUTPUT_TEMPLATE = (\n",
    "    'Bayesian classifier: {bayes:.3g} \\n'\n",
    "    'kNN classifier:      {knn:.3g} \\n'\n",
    "    'SVM classifier:      {svm:.3g} \\n'\n",
    ")\n",
    "\n"
   ]
  },
  {
   "cell_type": "code",
   "execution_count": 3,
   "metadata": {
    "collapsed": true
   },
   "outputs": [],
   "source": [
    "#\n",
    "# Read file and decode into SVC format!\n",
    "#"
   ]
  },
  {
   "cell_type": "code",
   "execution_count": 4,
   "metadata": {
    "collapsed": true
   },
   "outputs": [],
   "source": [
    "data = pd.read_csv('results_100-300_230_50.csv')"
   ]
  },
  {
   "cell_type": "code",
   "execution_count": 5,
   "metadata": {
    "collapsed": true
   },
   "outputs": [],
   "source": [
    "#\n",
    "# one hot encoding\n",
    "#\n",
    "\n",
    "encode = data.iloc[:,1:]\n",
    "cat = data.iloc[:,0]\n",
    "cat = cat.values\n"
   ]
  },
  {
   "cell_type": "code",
   "execution_count": 6,
   "metadata": {
    "collapsed": true
   },
   "outputs": [],
   "source": [
    "all_vocab = encode.values.ravel()\n",
    "all_vocab = all_vocab.astype(np.str)"
   ]
  },
  {
   "cell_type": "code",
   "execution_count": null,
   "metadata": {
    "collapsed": true
   },
   "outputs": [],
   "source": []
  },
  {
   "cell_type": "code",
   "execution_count": 7,
   "metadata": {
    "collapsed": true
   },
   "outputs": [],
   "source": [
    "u = np.unique(all_vocab)\n",
    "vocab_sorter = np.argsort(u) \n",
    "vocab_dict = np.array(vocab_sorter[np.searchsorted(u, all_vocab, sorter=vocab_sorter)])\n"
   ]
  },
  {
   "cell_type": "code",
   "execution_count": 8,
   "metadata": {
    "collapsed": true
   },
   "outputs": [],
   "source": [
    "vocab_dict = vocab_dict.reshape(data.shape[0],20)"
   ]
  },
  {
   "cell_type": "code",
   "execution_count": null,
   "metadata": {
    "collapsed": true
   },
   "outputs": [],
   "source": [
    "\n"
   ]
  },
  {
   "cell_type": "code",
   "execution_count": 9,
   "metadata": {
    "collapsed": true
   },
   "outputs": [],
   "source": [
    "enc = OneHotEncoder()\n",
    "# 2d array of samples\n",
    "enc.fit(vocab_dict) \n",
    "svc_ready = enc.transform(vocab_dict).toarray()"
   ]
  },
  {
   "cell_type": "code",
   "execution_count": 10,
   "metadata": {},
   "outputs": [
    {
     "data": {
      "text/plain": [
       "(1790, 20266)"
      ]
     },
     "execution_count": 10,
     "metadata": {},
     "output_type": "execute_result"
    }
   ],
   "source": [
    "# debug\n",
    "\n",
    "\n",
    "#cat = cat.reshape(1009,1)\n",
    "#data_final = np.concatenate((cat, svc_ready), axis = 1)\n",
    "#svc_ready.shape"
   ]
  },
  {
   "cell_type": "code",
   "execution_count": 11,
   "metadata": {
    "collapsed": true
   },
   "outputs": [],
   "source": [
    "#\n",
    "# run classifier\n",
    "#"
   ]
  },
  {
   "cell_type": "code",
   "execution_count": 12,
   "metadata": {
    "collapsed": true
   },
   "outputs": [],
   "source": [
    "X = svc_ready\n",
    "y = cat\n",
    "\n",
    "X_train, X_test, y_train, y_test = train_test_split(\n",
    "  X, y, test_size=0.33)"
   ]
  },
  {
   "cell_type": "code",
   "execution_count": 13,
   "metadata": {
    "collapsed": true
   },
   "outputs": [],
   "source": [
    "\n",
    "\n",
    "bayes_model = GaussianNB()\n",
    "\n",
    "\n",
    "nn = 8\n",
    "knn_model = KNeighborsClassifier(n_neighbors=nn)\n",
    "\n",
    "c = 1\n",
    "svc_model = SVC(C=c, kernel='linear')\n",
    "\n",
    "\n",
    "models = [svc_model, bayes_model, knn_model]\n",
    "\n",
    "for i, m in enumerate(models):\n",
    "    m.fit(X_train, y_train)\n",
    "    \n",
    "\n"
   ]
  },
  {
   "cell_type": "code",
   "execution_count": 15,
   "metadata": {
    "collapsed": true
   },
   "outputs": [],
   "source": [
    "svc_pred = svc_model.predict(X_test)    \n",
    "sc = confusion_matrix(y_test, svc_pred)\n",
    "\n",
    "bayes_pred = bayes_model.predict(X_test)    \n",
    "bc = confusion_matrix(y_test, bayes_pred)\n",
    "\n",
    "\n",
    "knn_pred = knn_model.predict(X_test)    \n",
    "kc = confusion_matrix(y_test, knn_pred)\n",
    "\n",
    "\n",
    "print(OUTPUT_TEMPLATE.format(\n",
    "    bayes=bayes_model.score(X_test, y_test),\n",
    "    \n",
    "    knn=knn_model.score(X_test, y_test),\n",
    "    \n",
    "    svm=svc_model.score(X_test, y_test),\n",
    "    \n",
    "))"
   ]
  },
  {
   "cell_type": "code",
   "execution_count": 17,
   "metadata": {},
   "outputs": [
    {
     "data": {
      "image/png": "[encoded data removed]",
      "text/plain": [
       "<matplotlib.figure.Figure at 0x111837eb8>"
      ]
     },
     "metadata": {},
     "output_type": "display_data"
    }
   ],
   "source": [
    "# output result\n",
    "\n",
    "sn.heatmap(bc, annot=True)\n",
    "plt.title('Bayes Confusion Matrix')\n",
    "plt.xlabel('True State')\n",
    "plt.ylabel('Predicted State')\n",
    "plt.show()"
   ]
  },
  {
   "cell_type": "code",
   "execution_count": null,
   "metadata": {
    "collapsed": true
   },
   "outputs": [],
   "source": []
  }
 ],
 "metadata": {
  "kernelspec": {
   "display_name": "Python 3",
   "language": "python",
   "name": "python3"
  },
  "language_info": {
   "codemirror_mode": {
    "name": "ipython",
    "version": 3
   },
   "file_extension": ".py",
   "mimetype": "text/x-python",
   "name": "python",
   "nbconvert_exporter": "python",
   "pygments_lexer": "ipython3",
   "version": "3.5.0"
  }
 },
 "nbformat": 4,
 "nbformat_minor": 2
}
